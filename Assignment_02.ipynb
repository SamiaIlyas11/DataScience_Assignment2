{
  "nbformat": 4,
  "nbformat_minor": 0,
  "metadata": {
    "colab": {
      "provenance": []
    },
    "kernelspec": {
      "name": "python3",
      "display_name": "Python 3"
    },
    "language_info": {
      "name": "python"
    }
  },
  "cells": [
    {
      "cell_type": "markdown",
      "source": [
        "## Task 01:\n",
        "\n",
        "Print Your Name with your Father name and Date of birth using suitable escape sequence charactor\n",
        "\n"
      ],
      "metadata": {
        "id": "bb0O0xtk1v9t"
      }
    },
    {
      "cell_type": "code",
      "source": [
        "name = \"Samia Ilyas\"\n",
        "father_name = \"Muhammad Ilyas Ahmed\"\n",
        "Dob = \"01-Jan-2002\"\n",
        "print(\"Name:\\t\", name, \"\\nFather's Name:\\t\", father_name, \"\\nDate of Birth:\\t\", Dob)\n"
      ],
      "metadata": {
        "id": "U7LLGIkO2Ixa",
        "colab": {
          "base_uri": "https://localhost:8080/"
        },
        "outputId": "c9105c21-8fb1-4815-9c42-7303f8b54d11"
      },
      "execution_count": 1,
      "outputs": [
        {
          "output_type": "stream",
          "name": "stdout",
          "text": [
            "Name:\t Samia Ilyas \n",
            "Father's Name:\t Muhammad Ilyas Ahmed \n",
            "Date of Birth:\t 01-Jan-2002\n"
          ]
        }
      ]
    },
    {
      "cell_type": "markdown",
      "source": [
        "# Task 02:\n",
        "\n",
        "Write your small bio using variables and print it using print function"
      ],
      "metadata": {
        "id": "TU-xwiLV2NgB"
      }
    },
    {
      "cell_type": "code",
      "source": [
        "name = \"Samia Ilyas\"\n",
        "father_name = \"Muhammad Ilyas Ahmed\"\n",
        "dob = \"01-Jan-2002\"\n",
        "degree = \"Bachelors in Computer Science\"\n",
        "university = \"NUCES FAST\"\n",
        "interest1 = \"Data Science\"\n",
        "interest2 = \"paint and sketch\"\n",
        "bio = f\"My name is {name}. My father's name is {father_name}. I was born on {dob}. \\nI'm currently getting my degree in {degree} from {university}. \\nMy primary interest lies in {interest1}, a field where I explore large datasets to glean insights and make informed decisions. \\nAlongside my professional pursuits, I have a passionate interest in {interest2}. \\nThis hobby allows me to express my creativity through various artistic mediums, providing a fulfilling balance to my analytical work.\"\n",
        "print(bio)\n"
      ],
      "metadata": {
        "id": "Dw8w3rwl2wDB",
        "colab": {
          "base_uri": "https://localhost:8080/"
        },
        "outputId": "3c12d340-c4ee-454a-a6b4-19eae6bb6357"
      },
      "execution_count": 8,
      "outputs": [
        {
          "output_type": "stream",
          "name": "stdout",
          "text": [
            "My name is Samia Ilyas. My father's name is Muhammad Ilyas Ahmed. I was born on 01-Jan-2002. \n",
            "I'm currently getting my degree in Bachelors in Computer Science from NUCES FAST. \n",
            "My primary interest lies in Data Science, a field where I explore large datasets to glean insights and make informed decisions. \n",
            "Alongside my professional pursuits, I have a passionate interest in paint and sketch. \n",
            "This hobby allows me to express my creativity through various artistic mediums, providing a fulfilling balance to my analytical work.\n"
          ]
        }
      ]
    },
    {
      "cell_type": "markdown",
      "source": [
        "# Task 03:\n",
        "\n",
        "Write a program in which use all the operators we can use in Python"
      ],
      "metadata": {
        "id": "F2lcZuDe2ztv"
      }
    },
    {
      "cell_type": "code",
      "source": [
        "# Arithmetic Operators\n",
        "a = 9\n",
        "b = 3\n",
        "print(\"Arithmetic Operators:\")\n",
        "print(\"Addition (a + b):\", a + b)\n",
        "print(\"Subtraction (a - b):\", a - b)\n",
        "print(\"Multiplication (a * b):\", a * b)\n",
        "print(\"Division (a / b):\", a / b)\n",
        "print(\"Modulus (a % b):\", a % b)\n",
        "print(\"Exponentiation (a ** b):\", a ** b)\n",
        "print(\"Floor Division (a // b):\", a // b)\n",
        "\n",
        "# Comparison Operators\n",
        "print(\"\\nComparison Operators:\")\n",
        "print(\"Equal (a == b):\", a == b)\n",
        "print(\"Not equal (a != b):\", a != b)\n",
        "print(\"Greater than (a > b):\", a > b)\n",
        "print(\"Less than (a < b):\", a < b)\n",
        "print(\"Greater than or equal to (a >= b):\", a >= b)\n",
        "print(\"Less than or equal to (a <= b):\", a <= b)\n",
        "\n",
        "# Assignment Operators\n",
        "print(\"\\nAssignment Operators:\")\n",
        "c = 10\n",
        "c += a\n",
        "print(\"c += a:\", c)\n",
        "c -= a\n",
        "print(\"c -= a:\", c)\n",
        "c *= a\n",
        "print(\"c *= a:\", c)\n",
        "c /= a\n",
        "print(\"c /= a:\", c)\n",
        "c %= a\n",
        "print(\"c %= a:\", c)\n",
        "c **= b\n",
        "print(\"c **= b:\", c)\n",
        "c //= b\n",
        "print(\"c //= b:\", c)\n",
        "\n",
        "# Logical Operators\n",
        "print(\"\\nLogical Operators:\")\n",
        "d = True\n",
        "e = False\n",
        "print(\"x and y:\", d and e)\n",
        "print(\"x or y:\", d or e)\n",
        "print(\"not x:\", not d)\n",
        "\n",
        "# Bitwise Operators\n",
        "print(\"\\nBitwise Operators:\")\n",
        "print(\"AND (a & b):\", a & b)\n",
        "print(\"OR (a | b):\", a | b)\n",
        "print(\"XOR (a ^ b):\", a ^ b)\n",
        "print(\"NOT (~a):\", ~a)\n",
        "print(\"Left Shift (a << 1):\", a << 1)\n",
        "print(\"Right Shift (a >> 1):\", a >> 1)"
      ],
      "metadata": {
        "id": "lEJhzsXh3e7K",
        "colab": {
          "base_uri": "https://localhost:8080/"
        },
        "outputId": "bca56a09-dd1f-4e98-e3da-9ddb89deb2a4"
      },
      "execution_count": 10,
      "outputs": [
        {
          "output_type": "stream",
          "name": "stdout",
          "text": [
            "Arithmetic Operators:\n",
            "Addition (a + b): 12\n",
            "Subtraction (a - b): 6\n",
            "Multiplication (a * b): 27\n",
            "Division (a / b): 3.0\n",
            "Modulus (a % b): 0\n",
            "Exponentiation (a ** b): 729\n",
            "Floor Division (a // b): 3\n",
            "\n",
            "Comparison Operators:\n",
            "Equal (a == b): False\n",
            "Not equal (a != b): True\n",
            "Greater than (a > b): True\n",
            "Less than (a < b): False\n",
            "Greater than or equal to (a >= b): True\n",
            "Less than or equal to (a <= b): False\n",
            "\n",
            "Assignment Operators:\n",
            "c += a: 19\n",
            "c -= a: 10\n",
            "c *= a: 90\n",
            "c /= a: 10.0\n",
            "c %= a: 1.0\n",
            "c **= b: 1.0\n",
            "c //= b: 0.0\n",
            "\n",
            "Logical Operators:\n",
            "x and y: False\n",
            "x or y: True\n",
            "not x: False\n",
            "\n",
            "Bitwise Operators:\n",
            "AND (a & b): 1\n",
            "OR (a | b): 11\n",
            "XOR (a ^ b): 10\n",
            "NOT (~a): -10\n",
            "Left Shift (a << 1): 18\n",
            "Right Shift (a >> 1): 4\n"
          ]
        }
      ]
    },
    {
      "cell_type": "markdown",
      "source": [
        "# Task 04:\n",
        "\n",
        "\n",
        "1. Mention Marks of English , Islamiat and Maths out of 100 in 3 different variables\n",
        "\n",
        "2. Mention Variable of Total Marks and assign 300 to it\n",
        "\n",
        "3. Calculate Percentage"
      ],
      "metadata": {
        "id": "i4N14TJU3l7n"
      }
    },
    {
      "cell_type": "code",
      "source": [
        "english = 85\n",
        "islamiat = 74\n",
        "maths = 92\n",
        "total_marks = 300\n",
        "\n",
        "obtained_marks = english + islamiat + maths\n",
        "percentage = (obtained_marks / total_marks) * 100\n",
        "\n",
        "print(\"Marks in English:\", english)\n",
        "print(\"Marks in Islamiat:\", islamiat)\n",
        "print(\"Marks in Maths:\", maths)\n",
        "print(\"Total Marks:\", total_marks)\n",
        "print(\"Total Obtained Marks:\", obtained_marks)\n",
        "print(\"Percentage:\", format(percentage, \".2f\"), \"%\")\n"
      ],
      "metadata": {
        "id": "nxojzvRg5PP4",
        "colab": {
          "base_uri": "https://localhost:8080/"
        },
        "outputId": "053268c0-3869-4ab8-ecfe-720d46903cbd"
      },
      "execution_count": 11,
      "outputs": [
        {
          "output_type": "stream",
          "name": "stdout",
          "text": [
            "Marks in English: 85\n",
            "Marks in Islamiat: 74\n",
            "Marks in Maths: 92\n",
            "Total Marks: 300\n",
            "Total Obtained Marks: 251\n",
            "Percentage: 83.67 %\n"
          ]
        }
      ]
    }
  ]
}